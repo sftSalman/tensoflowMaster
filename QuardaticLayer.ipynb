{
  "nbformat": 4,
  "nbformat_minor": 0,
  "metadata": {
    "colab": {
      "name": "QuardaticLayer.ipynb",
      "provenance": [],
      "authorship_tag": "ABX9TyM/X8wmo4++kDkFOhtDvJzZ",
      "include_colab_link": true
    },
    "kernelspec": {
      "name": "python3",
      "display_name": "Python 3"
    },
    "language_info": {
      "name": "python"
    }
  },
  "cells": [
    {
      "cell_type": "markdown",
      "metadata": {
        "id": "view-in-github",
        "colab_type": "text"
      },
      "source": [
        "<a href=\"https://colab.research.google.com/github/sftSalman/tensoflowMaster/blob/main/QuardaticLayer.ipynb\" target=\"_parent\"><img src=\"https://colab.research.google.com/assets/colab-badge.svg\" alt=\"Open In Colab\"/></a>"
      ]
    },
    {
      "cell_type": "code",
      "execution_count": 1,
      "metadata": {
        "id": "VXp8i3-33bSw"
      },
      "outputs": [],
      "source": [
        "import tensorflow as tf \n",
        "from tensorflow.keras.layers import Layer"
      ]
    },
    {
      "cell_type": "code",
      "source": [
        "class SimpleQ(Layer):\n",
        "\n",
        "  def __init__(self, units = 32, activation= None):\n",
        "    super(SimpleQ,self).__init__()\n",
        "    self.units = units \n",
        "    self.activation = tf.keras.activations.get(activation)\n",
        "\n",
        "  \n",
        "\n",
        "  def build(self, input_shape):\n",
        "     a_init = tf.random_normal_initializer()\n",
        "     b_init = tf.random_normal_initializer()\n",
        "     c_init = tf.zeros_initializer()\n",
        "\n",
        "\n",
        "     self.a = tf.Variable(initial_value=a_init(shape= (input_shape[-1],self.units)),dtype= 'float32',trainable=True, name = 'kernel')\n",
        "     \n",
        "     self.b = tf.Variable(initial_value=b_init(shape= (input_shape[-1],self.units)),dtype='float32',trainable=True, name = 'kernel')\n",
        "\n",
        "\n",
        "     self.c = tf.Variable(initial_value=c_init(shape = (self.units,)),dtype='float32',trainable= True, name = 'bias')\n",
        "\n",
        "  \n",
        "  def call(self, inputs):\n",
        "      result = tf.matmul(tf.math.square(inputs), self.a) + tf.matmul(inputs, self.b) + self.c\n",
        "      return self.activation(result)\n",
        "\n",
        "\n",
        "\n",
        "\n"
      ],
      "metadata": {
        "id": "E72FRk_v44CD"
      },
      "execution_count": 14,
      "outputs": []
    },
    {
      "cell_type": "code",
      "source": [
        "mnist = tf.keras.datasets.mnist\n",
        "\n",
        "(x_train, y_train),(x_test, y_test) = mnist.load_data()\n",
        "x_train, x_test = x_train / 255.0, x_test / 255.0\n",
        "\n",
        "model = tf.keras.models.Sequential([\n",
        "  tf.keras.layers.Flatten(input_shape=(28, 28)),\n",
        "  SimpleQ(128, activation=tf.keras.activations.relu),\n",
        "  tf.keras.layers.Dropout(0.2),\n",
        "  tf.keras.layers.Dense(10, activation='softmax')\n",
        "])\n",
        "\n",
        "model.compile(optimizer='adam',\n",
        "              loss='sparse_categorical_crossentropy',\n",
        "              metrics=['accuracy'])\n",
        "\n",
        "model.fit(x_train, y_train, epochs=5)\n",
        "model.evaluate(x_test, y_test)"
      ],
      "metadata": {
        "colab": {
          "base_uri": "https://localhost:8080/"
        },
        "id": "VSFLYrnR8jVp",
        "outputId": "37b22c21-c408-41c3-abc8-1709c644243e"
      },
      "execution_count": 15,
      "outputs": [
        {
          "output_type": "stream",
          "name": "stdout",
          "text": [
            "Epoch 1/5\n",
            "1875/1875 [==============================] - 6s 3ms/step - loss: 0.2708 - accuracy: 0.9208\n",
            "Epoch 2/5\n",
            "1875/1875 [==============================] - 5s 3ms/step - loss: 0.1347 - accuracy: 0.9590\n",
            "Epoch 3/5\n",
            "1875/1875 [==============================] - 5s 3ms/step - loss: 0.1015 - accuracy: 0.9689\n",
            "Epoch 4/5\n",
            "1875/1875 [==============================] - 5s 3ms/step - loss: 0.0862 - accuracy: 0.9725\n",
            "Epoch 5/5\n",
            "1875/1875 [==============================] - 5s 3ms/step - loss: 0.0710 - accuracy: 0.9772\n",
            "313/313 [==============================] - 1s 2ms/step - loss: 0.0819 - accuracy: 0.9762\n"
          ]
        },
        {
          "output_type": "execute_result",
          "data": {
            "text/plain": [
              "[0.08188022673130035, 0.9761999845504761]"
            ]
          },
          "metadata": {},
          "execution_count": 15
        }
      ]
    },
    {
      "cell_type": "code",
      "source": [
        ""
      ],
      "metadata": {
        "id": "ZjfDWRYw8xYB"
      },
      "execution_count": null,
      "outputs": []
    }
  ]
}