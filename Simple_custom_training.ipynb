{
  "nbformat": 4,
  "nbformat_minor": 0,
  "metadata": {
    "colab": {
      "name": "Simple_custom_training.ipynb",
      "provenance": [],
      "authorship_tag": "ABX9TyPsqFd4qjOLmmt7W5Eq02WU",
      "include_colab_link": true
    },
    "kernelspec": {
      "name": "python3",
      "display_name": "Python 3"
    },
    "language_info": {
      "name": "python"
    }
  },
  "cells": [
    {
      "cell_type": "markdown",
      "metadata": {
        "id": "view-in-github",
        "colab_type": "text"
      },
      "source": [
        "<a href=\"https://colab.research.google.com/github/sftSalman/tensoflowMaster/blob/main/Simple_custom_training.ipynb\" target=\"_parent\"><img src=\"https://colab.research.google.com/assets/colab-badge.svg\" alt=\"Open In Colab\"/></a>"
      ]
    },
    {
      "cell_type": "code",
      "execution_count": 1,
      "metadata": {
        "id": "4PBpc7um0Mui"
      },
      "outputs": [],
      "source": [
        "import tensorflow as tf\n",
        "import numpy as np\n",
        "import matplotlib.pyplot as plt\n"
      ]
    },
    {
      "cell_type": "code",
      "source": [
        "class Model(object):\n",
        "  def __init__(self):\n",
        "    self.w = tf.Variable(2.0)\n",
        "    self.b = tf.Variable(3.0)\n",
        "\n",
        "  def __call__(self,x):\n",
        "    return self.w * x + self.b"
      ],
      "metadata": {
        "id": "a68O2GHpBTtF"
      },
      "execution_count": 2,
      "outputs": []
    },
    {
      "cell_type": "code",
      "source": [
        "model = Model()"
      ],
      "metadata": {
        "id": "w2dmL9JrB4y3"
      },
      "execution_count": 3,
      "outputs": []
    },
    {
      "cell_type": "code",
      "source": [
        "def loss(pred_y,tar_y):\n",
        "  return tf.reduce_mean(tf.square(pred_y-tar_y))"
      ],
      "metadata": {
        "id": "gBPo2FYZB72Y"
      },
      "execution_count": 13,
      "outputs": []
    },
    {
      "cell_type": "code",
      "source": [
        "TRUE_w = 3.0\n",
        "TRUE_b = 2.0\n",
        "NUM_EXAMPLES = 1000\n",
        "\n",
        "xs  = tf.random.normal(shape=[NUM_EXAMPLES])\n",
        "\n",
        "ys = (TRUE_w * xs) + TRUE_b"
      ],
      "metadata": {
        "id": "zhPlkXciCPVi"
      },
      "execution_count": 14,
      "outputs": []
    },
    {
      "cell_type": "code",
      "source": [
        "def plot_data(inputs,outputs, pred_outputs):\n",
        "  real = plt.scatter(inputs,outputs,c='b',marker='.')\n",
        "  predicted = plt.scatter(inputs,pred_outputs,c='r', marker = '.')\n",
        "  plt.legend((real,predicted), ('Real Data', 'Predicted Data'))\n",
        "  plt.show()\n",
        "\n",
        "\n",
        "# def plot_data(inputs, outputs, predicted_outputs):\n",
        "#   real = plt.scatter(inputs, outputs, c='b', marker='.')\n",
        "#   predicted = plt.scatter(inputs, predicted_outputs, c='r', marker='+')\n",
        "#   plt.legend((real,predicted), ('Real Data', 'Predicted Data'))\n",
        "#   plt.show()"
      ],
      "metadata": {
        "id": "Rj39ieJVCZde"
      },
      "execution_count": 15,
      "outputs": []
    },
    {
      "cell_type": "code",
      "source": [
        "def plot_data(inputs, outputs, predicted_outputs):\n",
        "  real = plt.scatter(inputs, outputs, c='b', marker='.')\n",
        "  predicted = plt.scatter(inputs, predicted_outputs, c='r', marker='+')\n",
        "  plt.legend((real,predicted), ('Real Data', 'Predicted Data'))\n",
        "  plt.show()\n"
      ],
      "metadata": {
        "id": "hM_-Bd-8e6K3"
      },
      "execution_count": 22,
      "outputs": []
    },
    {
      "cell_type": "code",
      "source": [
        "plot_data(xs, ys, model(xs))\n",
        "print('Current loss: %1.6f' % loss(model(xs), ys).numpy())"
      ],
      "metadata": {
        "colab": {
          "base_uri": "https://localhost:8080/",
          "height": 284
        },
        "id": "RGVTyhohDXcJ",
        "outputId": "559d7faf-3aaf-491b-9c7b-82f795e945f7"
      },
      "execution_count": 23,
      "outputs": [
        {
          "output_type": "display_data",
          "data": {
            "text/plain": [
              "<Figure size 432x288 with 1 Axes>"
            ],
            "image/png": "[encoded data removed]"
          },
          "metadata": {
            "needs_background": "light"
          }
        },
        {
          "output_type": "stream",
          "name": "stdout",
          "text": [
            "Current loss: 0.002546\n"
          ]
        }
      ]
    },
    {
      "cell_type": "code",
      "source": [
        "def train(model, inputs, outputs, learning_rate):\n",
        "  with tf.GradientTape() as t:\n",
        "    current_loss = loss(model(inputs), outputs)\n",
        "  dw, db = t.gradient(current_loss, [model.w, model.b])\n",
        "  model.w.assign_sub(learning_rate * dw)\n",
        "  model.b.assign_sub(learning_rate * db)\n",
        "\n",
        "  return current_loss"
      ],
      "metadata": {
        "id": "ggIaOTiuDjB-"
      },
      "execution_count": 27,
      "outputs": []
    },
    {
      "cell_type": "code",
      "source": [
        "model = Model()\n",
        "\n",
        "# Collect the history of W-values and b-values to plot later\n",
        "list_w, list_b = [], []\n",
        "epochs = range(15)\n",
        "losses = []\n",
        "for epoch in epochs:\n",
        "  list_w.append(model.w.numpy())\n",
        "  list_b.append(model.b.numpy())\n",
        "  current_loss = train(model, xs, ys, learning_rate=0.1)\n",
        "  losses.append(current_loss)\n",
        "  print('Epoch %2d: w=%1.2f b=%1.2f, loss=%2.5f' % \n",
        "        (epoch, list_w[-1], list_b[-1], current_loss))"
      ],
      "metadata": {
        "colab": {
          "base_uri": "https://localhost:8080/"
        },
        "id": "oooUhoJQIEPf",
        "outputId": "f3defcb6-04e3-4154-b6f2-dced447a00cd"
      },
      "execution_count": 28,
      "outputs": [
        {
          "output_type": "stream",
          "name": "stdout",
          "text": [
            "Epoch  0: w=2.00 b=3.00, loss=1.99267\n",
            "Epoch  1: w=2.20 b=2.80, loss=1.27754\n",
            "Epoch  2: w=2.35 b=2.64, loss=0.81909\n",
            "Epoch  3: w=2.48 b=2.51, loss=0.52518\n",
            "Epoch  4: w=2.58 b=2.41, loss=0.33675\n",
            "Epoch  5: w=2.66 b=2.32, loss=0.21594\n",
            "Epoch  6: w=2.73 b=2.26, loss=0.13848\n",
            "Epoch  7: w=2.78 b=2.21, loss=0.08881\n",
            "Epoch  8: w=2.83 b=2.16, loss=0.05696\n",
            "Epoch  9: w=2.86 b=2.13, loss=0.03653\n",
            "Epoch 10: w=2.89 b=2.10, loss=0.02343\n",
            "Epoch 11: w=2.91 b=2.08, loss=0.01503\n",
            "Epoch 12: w=2.93 b=2.07, loss=0.00964\n",
            "Epoch 13: w=2.94 b=2.05, loss=0.00618\n",
            "Epoch 14: w=2.95 b=2.04, loss=0.00397\n"
          ]
        }
      ]
    },
    {
      "cell_type": "code",
      "source": [
        "plt.plot(epochs, list_w, 'r',\n",
        "       epochs, list_b, 'b')\n",
        "plt.plot([TRUE_w] * len(epochs), 'r--',\n",
        "      [TRUE_b] * len(epochs), 'b--')\n",
        "plt.legend(['w', 'b', 'True w', 'True b'])\n",
        "plt.show()"
      ],
      "metadata": {
        "colab": {
          "base_uri": "https://localhost:8080/",
          "height": 265
        },
        "id": "X8cvCkllI8RJ",
        "outputId": "d4b36521-086c-40b7-c094-fc1c93a084ec"
      },
      "execution_count": 29,
      "outputs": [
        {
          "output_type": "display_data",
          "data": {
            "text/plain": [
              "<Figure size 432x288 with 1 Axes>"
            ],
            "image/png": "[encoded data removed]"
          },
          "metadata": {
            "needs_background": "light"
          }
        }
      ]
    },
    {
      "cell_type": "code",
      "source": [
        "test_inputs  = tf.random.normal(shape=[NUM_EXAMPLES])\n",
        "test_outputs = test_inputs * TRUE_w + TRUE_b\n",
        "\n",
        "predicted_test_outputs = model(test_inputs)\n",
        "plot_data(test_inputs, test_outputs, predicted_test_outputs)\n"
      ],
      "metadata": {
        "id": "JzZjwC07JETJ",
        "colab": {
          "base_uri": "https://localhost:8080/",
          "height": 265
        },
        "outputId": "c6c3827a-bff0-4a2c-e816-0ad8ddf08d1e"
      },
      "execution_count": 30,
      "outputs": [
        {
          "output_type": "display_data",
          "data": {
            "text/plain": [
              "<Figure size 432x288 with 1 Axes>"
            ],
            "image/png": "[encoded data removed]"
          },
          "metadata": {
            "needs_background": "light"
          }
        }
      ]
    },
    {
      "cell_type": "code",
      "source": [
        "def plot_loss_for_weights(weights_list, losses):\n",
        "  for idx, weights in enumerate(weights_list):\n",
        "    plt.subplot(120 + idx + 1)\n",
        "    plt.plot(weights['values'], losses, 'r')\n",
        "    plt.plot(weights['values'], losses, 'bo')\n",
        "    plt.xlabel(weights['name'])\n",
        "    plt.ylabel('Loss')\n",
        "    \n",
        "    \n",
        "weights_list = [{ 'name' : \"w\",\n",
        "                  'values' : list_w\n",
        "                },\n",
        "                {\n",
        "                  'name' : \"b\",\n",
        "                  'values' : list_b\n",
        "                }]\n",
        "\n",
        "plot_loss_for_weights(weights_list, losses)"
      ],
      "metadata": {
        "colab": {
          "base_uri": "https://localhost:8080/",
          "height": 279
        },
        "id": "64_A8c_CeO3w",
        "outputId": "122f3381-2c40-400d-a6dc-f60ad1aa6450"
      },
      "execution_count": 31,
      "outputs": [
        {
          "output_type": "display_data",
          "data": {
            "text/plain": [
              "<Figure size 432x288 with 2 Axes>"
            ],
            "image/png": "[encoded data removed]"
          },
          "metadata": {
            "needs_background": "light"
          }
        }
      ]
    },
    {
      "cell_type": "code",
      "source": [
        ""
      ],
      "metadata": {
        "id": "5fC8q1H0eSg2"
      },
      "execution_count": null,
      "outputs": []
    }
  ]
}