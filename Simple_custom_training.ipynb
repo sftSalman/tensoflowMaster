{
  "nbformat": 4,
  "nbformat_minor": 0,
  "metadata": {
    "colab": {
      "name": "Simple_custom_training.ipynb",
      "provenance": [],
      "authorship_tag": "ABX9TyO4cNYh9p/SEsS/OdidVw9Q",
      "include_colab_link": true
    },
    "kernelspec": {
      "name": "python3",
      "display_name": "Python 3"
    },
    "language_info": {
      "name": "python"
    }
  },
  "cells": [
    {
      "cell_type": "markdown",
      "metadata": {
        "id": "view-in-github",
        "colab_type": "text"
      },
      "source": [
        "<a href=\"https://colab.research.google.com/github/sftSalman/tensoflowMaster/blob/main/Simple_custom_training.ipynb\" target=\"_parent\"><img src=\"https://colab.research.google.com/assets/colab-badge.svg\" alt=\"Open In Colab\"/></a>"
      ]
    },
    {
      "cell_type": "code",
      "execution_count": 1,
      "metadata": {
        "id": "4PBpc7um0Mui"
      },
      "outputs": [],
      "source": [
        "import tensorflow as tf\n",
        "import numpy as np\n",
        "import matplotlib.pyplot as plt\n"
      ]
    },
    {
      "cell_type": "code",
      "source": [
        "class Model(object):\n",
        "  def __init__(self):\n",
        "    self.w = tf.Variable(2.0)\n",
        "    self.b = tf.Variable(3.0)\n",
        "\n",
        "  def __call__(self,x):\n",
        "    return self.w * x + self.b"
      ],
      "metadata": {
        "id": "a68O2GHpBTtF"
      },
      "execution_count": 18,
      "outputs": []
    },
    {
      "cell_type": "code",
      "source": [
        "model = Model()"
      ],
      "metadata": {
        "id": "w2dmL9JrB4y3"
      },
      "execution_count": 19,
      "outputs": []
    },
    {
      "cell_type": "code",
      "source": [
        "def loss(pred_y,tar_y):\n",
        "  return tf.reduce_sum(tf.square(pred_y,tar_y))"
      ],
      "metadata": {
        "id": "gBPo2FYZB72Y"
      },
      "execution_count": 20,
      "outputs": []
    },
    {
      "cell_type": "code",
      "source": [
        "TRUE_w = 3.0\n",
        "TRUE_b = 2.0\n",
        "NUM_EXAMPLES = 1000\n",
        "\n",
        "xs  = tf.random.normal(shape=[NUM_EXAMPLES])\n",
        "\n",
        "ys = (TRUE_w * xs) + TRUE_b"
      ],
      "metadata": {
        "id": "zhPlkXciCPVi"
      },
      "execution_count": 21,
      "outputs": []
    },
    {
      "cell_type": "code",
      "source": [
        "def plot_data(inputs,outputs, pred_outputs):\n",
        "  real = plt.scatter(inputs,outputs,c='b',marker='.')\n",
        "  predicted = plt.scatter(inputs,pred_outputs,c='r', marker = '.')\n",
        "  plt.legend((real,predicted), ('Real Data', 'Predicted Data'))\n",
        "  plt.show()\n",
        "\n",
        "\n",
        "# def plot_data(inputs, outputs, predicted_outputs):\n",
        "#   real = plt.scatter(inputs, outputs, c='b', marker='.')\n",
        "#   predicted = plt.scatter(inputs, predicted_outputs, c='r', marker='+')\n",
        "#   plt.legend((real,predicted), ('Real Data', 'Predicted Data'))\n",
        "#   plt.show()"
      ],
      "metadata": {
        "id": "Rj39ieJVCZde"
      },
      "execution_count": 25,
      "outputs": []
    },
    {
      "cell_type": "code",
      "source": [
        "plot_data(xs, ys, model(xs))\n",
        "print('Current loss: %1.6f' % loss(model(xs), ys).numpy())"
      ],
      "metadata": {
        "colab": {
          "base_uri": "https://localhost:8080/",
          "height": 284
        },
        "id": "RGVTyhohDXcJ",
        "outputId": "447959df-a6cb-42cb-d797-cc9c93429208"
      },
      "execution_count": 26,
      "outputs": [
        {
          "output_type": "display_data",
          "data": {
            "text/plain": [
              "<Figure size 432x288 with 1 Axes>"
            ],
            "image/png": "[encoded data removed]"
          },
          "metadata": {
            "needs_background": "light"
          }
        },
        {
          "output_type": "stream",
          "name": "stdout",
          "text": [
            "Current loss: 12773.306641\n"
          ]
        }
      ]
    },
    {
      "cell_type": "code",
      "source": [
        "def train(model,inputs,outputs, learning_rate):\n",
        "  with tf.GradientTape() as t :\n",
        "    current_loss = loss(model(inputs),outputs)\n",
        "    dw,db = t.gradient(current_loss,[model.w, model.b])\n",
        "    model.w.assign_sub(learning_rate * dw)\n",
        "    model.b.assign_sub(learning_rate * db)\n",
        "    return current_loss"
      ],
      "metadata": {
        "id": "ggIaOTiuDjB-"
      },
      "execution_count": 30,
      "outputs": []
    },
    {
      "cell_type": "code",
      "source": [
        "model = Model()\n",
        "\n",
        "# Collect the history of W-values and b-values to plot later\n",
        "list_w, list_b = [], []\n",
        "epochs = range(15)\n",
        "losses = []\n",
        "for epoch in epochs:\n",
        "  list_w.append(model.w.numpy())\n",
        "  list_b.append(model.b.numpy())\n",
        "  current_loss = train(model, xs, ys, learning_rate=0.1)\n",
        "  losses.append(current_loss)\n",
        "  print('Epoch %2d: w=%1.2f b=%1.2f, loss=%2.5f' % \n",
        "        (epoch, list_w[-1], list_b[-1], current_loss))"
      ],
      "metadata": {
        "colab": {
          "base_uri": "https://localhost:8080/"
        },
        "id": "oooUhoJQIEPf",
        "outputId": "c7e91b20-2469-43e9-f556-796f7d066fa0"
      },
      "execution_count": 32,
      "outputs": [
        {
          "output_type": "stream",
          "name": "stdout",
          "text": [
            "Epoch  0: w=2.00 b=3.00, loss=12773.30664\n",
            "Epoch  1: w=-367.19 b=-602.43, loss=490620608.00000\n",
            "Epoch  2: w=67553.94 b=120879.72, loss=18952652587008.00000\n",
            "Epoch  3: w=-12455577.00 b=-24238404.00, loss=735727141890555904.00000\n",
            "Epoch  4: w=2301849856.00 b=4857246720.00, loss=28678814340704261636096.00000\n",
            "Epoch  5: w=-426418372608.00 b=-972839190528.00, loss=1121799928893115296630439936.00000\n",
            "Epoch  6: w=79192335056896.00 b=194752288915456.00, loss=44007723884687121733056920027136.00000\n",
            "Epoch  7: w=-14745430181019648.00 b=-38970639163326464.00, loss=1730560154476822217328006185762160640.00000\n",
            "Epoch  8: w=2752915157305786368.00 b=7795176801117929472.00, loss=inf\n",
            "Epoch  9: w=-515368578933212577792.00 b=-1558711593631624462336.00, loss=inf\n",
            "Epoch 10: w=96751028953183969869824.00 b=311582296824365164003328.00, loss=inf\n",
            "Epoch 11: w=-18214701327084854559375360.00 b=-62267455012780471073374208.00, loss=inf\n",
            "Epoch 12: w=3438957433051859739209629696.00 b=12440657750277967069292003328.00, loss=inf\n",
            "Epoch 13: w=-651137042293132464615820623872.00 b=-2485024091238870701218432286720.00, loss=inf\n",
            "Epoch 14: w=123638652125014269182445979959296.00 b=496287028213784511088238062993408.00, loss=inf\n"
          ]
        }
      ]
    },
    {
      "cell_type": "code",
      "source": [
        "model = Model()\n",
        "\n",
        "# Collect the history of W-values and b-values to plot later\n",
        "list_w, list_b = [], []\n",
        "epochs = range(15)\n",
        "losses = []\n",
        "for epoch in epochs:\n",
        "  list_w.append(model.w.numpy())\n",
        "  list_b.append(model.b.numpy())\n",
        "  current_loss = train(model, xs, ys, learning_rate=0.1)\n",
        "  losses.append(current_loss)\n",
        "  print('Epoch %2d: w=%1.2f b=%1.2f, loss=%2.5f' %\n",
        "        (epoch, list_w[-1], list_b[-1], current_loss))"
      ],
      "metadata": {
        "colab": {
          "base_uri": "https://localhost:8080/"
        },
        "id": "T_yGNVasIdBl",
        "outputId": "63c13b62-978d-4144-a522-1b3925e4cc46"
      },
      "execution_count": 33,
      "outputs": [
        {
          "output_type": "stream",
          "name": "stdout",
          "text": [
            "Epoch  0: w=2.00 b=3.00, loss=12773.30664\n",
            "Epoch  1: w=-367.19 b=-602.43, loss=490620608.00000\n",
            "Epoch  2: w=67553.94 b=120879.72, loss=18952652587008.00000\n",
            "Epoch  3: w=-12455577.00 b=-24238404.00, loss=735727141890555904.00000\n",
            "Epoch  4: w=2301849856.00 b=4857246720.00, loss=28678814340704261636096.00000\n",
            "Epoch  5: w=-426418372608.00 b=-972839190528.00, loss=1121799928893115296630439936.00000\n",
            "Epoch  6: w=79192335056896.00 b=194752288915456.00, loss=44007723884687121733056920027136.00000\n",
            "Epoch  7: w=-14745430181019648.00 b=-38970639163326464.00, loss=1730560154476822217328006185762160640.00000\n",
            "Epoch  8: w=2752915157305786368.00 b=7795176801117929472.00, loss=inf\n",
            "Epoch  9: w=-515368578933212577792.00 b=-1558711593631624462336.00, loss=inf\n",
            "Epoch 10: w=96751028953183969869824.00 b=311582296824365164003328.00, loss=inf\n",
            "Epoch 11: w=-18214701327084854559375360.00 b=-62267455012780471073374208.00, loss=inf\n",
            "Epoch 12: w=3438957433051859739209629696.00 b=12440657750277967069292003328.00, loss=inf\n",
            "Epoch 13: w=-651137042293132464615820623872.00 b=-2485024091238870701218432286720.00, loss=inf\n",
            "Epoch 14: w=123638652125014269182445979959296.00 b=496287028213784511088238062993408.00, loss=inf\n"
          ]
        }
      ]
    },
    {
      "cell_type": "code",
      "source": [
        "plt.plot(epochs, list_w, 'r',\n",
        "       epochs, list_b, 'b')\n",
        "plt.plot([TRUE_w] * len(epochs), 'r--',\n",
        "      [TRUE_b] * len(epochs), 'b--')\n",
        "plt.legend(['w', 'b', 'True w', 'True b'])\n",
        "plt.show()"
      ],
      "metadata": {
        "colab": {
          "base_uri": "https://localhost:8080/",
          "height": 276
        },
        "id": "X8cvCkllI8RJ",
        "outputId": "af12e5a7-4ff8-4f50-b85b-6ad02fa9f31b"
      },
      "execution_count": 34,
      "outputs": [
        {
          "output_type": "display_data",
          "data": {
            "text/plain": [
              "<Figure size 432x288 with 1 Axes>"
            ],
            "image/png": "[encoded data removed]"
          },
          "metadata": {
            "needs_background": "light"
          }
        }
      ]
    },
    {
      "cell_type": "code",
      "source": [
        ""
      ],
      "metadata": {
        "id": "JzZjwC07JETJ"
      },
      "execution_count": null,
      "outputs": []
    }
  ]
}