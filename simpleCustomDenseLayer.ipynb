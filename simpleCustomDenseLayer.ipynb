{
  "nbformat": 4,
  "nbformat_minor": 0,
  "metadata": {
    "colab": {
      "name": "simpleCustomDenseLayer.ipynb",
      "provenance": [],
      "authorship_tag": "ABX9TyM8ZvvYQ5/9EU+PQERaQrmb",
      "include_colab_link": true
    },
    "kernelspec": {
      "name": "python3",
      "display_name": "Python 3"
    },
    "language_info": {
      "name": "python"
    }
  },
  "cells": [
    {
      "cell_type": "markdown",
      "metadata": {
        "id": "view-in-github",
        "colab_type": "text"
      },
      "source": [
        "<a href=\"https://colab.research.google.com/github/sftSalman/tensoflowMaster/blob/main/simpleCustomDenseLayer.ipynb\" target=\"_parent\"><img src=\"https://colab.research.google.com/assets/colab-badge.svg\" alt=\"Open In Colab\"/></a>"
      ]
    },
    {
      "cell_type": "code",
      "execution_count": null,
      "metadata": {
        "id": "5o3cNXs9WrQS"
      },
      "outputs": [],
      "source": [
        "import tensorflow as tf\n",
        "import numpy as np"
      ]
    },
    {
      "cell_type": "code",
      "source": [
        "class SimpleDense(tf.keras.layers.Layer):\n",
        "    def __init__(self , units):\n",
        "        super(SimpleDense , self).__init__()\n",
        "        self.units = units\n",
        "    def build(self , input_shape):\n",
        "        w_init = tf.random_normal_initializer()\n",
        "        self.w = tf.Variable(initial_value=w_init((input_shape[1] , self.units)) , trainable=True , dtype=tf.float32 , name=\"kernal\")\n",
        "        b_init = tf.zeros_initializer()\n",
        "        self.b = tf.Variable(initial_value=b_init((self.units)) , trainable=True , dtype=tf.float32 , name=\"bias\")\n",
        "    def call(self , inputs):\n",
        "        return tf.multiply(inputs , self.w) + self.b"
      ],
      "metadata": {
        "id": "yFLxODLnW19c"
      },
      "execution_count": null,
      "outputs": []
    },
    {
      "cell_type": "code",
      "source": [
        "dense = SimpleDense(units = 1)\n",
        "x = tf.zeros((1,1))\n",
        "y = dense(x)\n",
        "dense.variables"
      ],
      "metadata": {
        "colab": {
          "base_uri": "https://localhost:8080/"
        },
        "id": "LiAmcM42hVsL",
        "outputId": "56669108-b722-4ad5-9546-b0077262c490"
      },
      "execution_count": null,
      "outputs": [
        {
          "output_type": "execute_result",
          "data": {
            "text/plain": [
              "[<tf.Variable 'simple_dense_2/kernal:0' shape=(1, 1) dtype=float32, numpy=array([[-0.03424362]], dtype=float32)>,\n",
              " <tf.Variable 'simple_dense_2/bias:0' shape=(1,) dtype=float32, numpy=array([0.], dtype=float32)>]"
            ]
          },
          "metadata": {},
          "execution_count": 7
        }
      ]
    },
    {
      "cell_type": "code",
      "source": [
        "dense = SimpleDense(units = 1)\n",
        "x = tf.zeros((1,1))\n",
        "y = dense(x)\n",
        "dense.variables"
      ],
      "metadata": {
        "colab": {
          "base_uri": "https://localhost:8080/"
        },
        "id": "wwNEi97JgxCx",
        "outputId": "e7988a23-ae6f-4608-d5a7-a9731697c710"
      },
      "execution_count": null,
      "outputs": [
        {
          "output_type": "execute_result",
          "data": {
            "text/plain": [
              "[<tf.Variable 'simple_dense/kernal:0' shape=(1, 1) dtype=float32, numpy=array([[0.03022425]], dtype=float32)>,\n",
              " <tf.Variable 'simple_dense/bias:0' shape=(1,) dtype=float32, numpy=array([0.], dtype=float32)>]"
            ]
          },
          "metadata": {},
          "execution_count": 4
        }
      ]
    },
    {
      "cell_type": "code",
      "source": [
        "dense = SimpleDense(units = 4)\n",
        "x = tf.zeros((4,4))\n",
        "y = dense(x)\n",
        "dense.variables"
      ],
      "metadata": {
        "colab": {
          "base_uri": "https://localhost:8080/"
        },
        "id": "Jt2wbwkTg5Pd",
        "outputId": "f3256017-beb2-477d-c284-9848a84df646"
      },
      "execution_count": null,
      "outputs": [
        {
          "output_type": "execute_result",
          "data": {
            "text/plain": [
              "[<tf.Variable 'simple_dense_1/kernal:0' shape=(4, 4) dtype=float32, numpy=\n",
              " array([[ 0.09895022, -0.01733216, -0.00737436,  0.02149456],\n",
              "        [-0.00327778, -0.06364547, -0.026683  , -0.02946667],\n",
              "        [-0.02437692, -0.02979991, -0.05773151, -0.01470354],\n",
              "        [-0.06238183, -0.0395265 , -0.06817754,  0.01991022]],\n",
              "       dtype=float32)>,\n",
              " <tf.Variable 'simple_dense_1/bias:0' shape=(4,) dtype=float32, numpy=array([0., 0., 0., 0.], dtype=float32)>]"
            ]
          },
          "metadata": {},
          "execution_count": 5
        }
      ]
    },
    {
      "cell_type": "code",
      "source": [
        ""
      ],
      "metadata": {
        "id": "IZFTX6KVg9Ik"
      },
      "execution_count": null,
      "outputs": []
    }
  ]
}