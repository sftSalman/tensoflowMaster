{
  "nbformat": 4,
  "nbformat_minor": 0,
  "metadata": {
    "colab": {
      "name": "resnet_self.ipynb",
      "provenance": [],
      "authorship_tag": "ABX9TyPcoeNwzLpTj6rF2FxUXNyj",
      "include_colab_link": true
    },
    "kernelspec": {
      "name": "python3",
      "display_name": "Python 3"
    },
    "language_info": {
      "name": "python"
    }
  },
  "cells": [
    {
      "cell_type": "markdown",
      "metadata": {
        "id": "view-in-github",
        "colab_type": "text"
      },
      "source": [
        "<a href=\"https://colab.research.google.com/github/sftSalman/tensoflowMaster/blob/main/resnet_self.ipynb\" target=\"_parent\"><img src=\"https://colab.research.google.com/assets/colab-badge.svg\" alt=\"Open In Colab\"/></a>"
      ]
    },
    {
      "cell_type": "code",
      "execution_count": 1,
      "metadata": {
        "id": "XStPHSvDDEUg"
      },
      "outputs": [],
      "source": [
        "import tensorflow as tf\n",
        "from tensorflow.keras.layers import Layer, Conv2D, Dense\n",
        "from tensorflow.keras.models import Model\n",
        "from tensorflow.nn import relu"
      ]
    },
    {
      "cell_type": "code",
      "source": [
        "class CNN_Residual(Layer):\n",
        "  def __init__(self,filter,layers, *kwarg):\n",
        "    super().__init__()\n",
        "    self.ConvBlock = [Conv2D(filter, (3,3),activation='relu') for _ in range(layers)]\n",
        "    \n",
        "\n",
        "  def call(self , inputs):\n",
        "   x = inputs\n",
        "   for layer in self.convBlock:\n",
        "    x = layer(x)\n",
        "    return inputs + x"
      ],
      "metadata": {
        "id": "CbJbqHKyDhc1"
      },
      "execution_count": 2,
      "outputs": []
    },
    {
      "cell_type": "code",
      "source": [
        "class DNNResidual(Layer):\n",
        "    def __init__(self , neuron , layers , *kwarg):\n",
        "        super().__init__()\n",
        "        self.convBlock = [Conv2D(filter , (3,3) , activation=relu) for _ in range(layers)]\n",
        "    def call(self , inputs):\n",
        "        x = inputs\n",
        "        for layer in self.convBlock:\n",
        "            x = layer(x)\n",
        "        return inputs + x"
      ],
      "metadata": {
        "id": "vI8_rFoBE-hT"
      },
      "execution_count": 3,
      "outputs": []
    },
    {
      "cell_type": "code",
      "source": [
        "class MyComplexModel(Model):\n",
        "    def __init__(self , **kwargs):\n",
        "        super().__init__(kwargs)\n",
        "        self.cnnBlock  = CNNResidual(32 , 2)\n",
        "        self.dnnBlock  = DNNResidual(64 , 2)\n",
        "        self.hiden1    = Dense(32 , activation=relu) \n",
        "        self.output    = Dense(1) \n",
        "    def call(self , input):\n",
        "        x = self.hidden1(input)\n",
        "        x = self.cnnBlock(x)\n",
        "        for _ in range(3):\n",
        "            x = self.dnnBlock(x)\n",
        "        x = self.output(x)\n",
        "\n",
        "        return x"
      ],
      "metadata": {
        "id": "DDn6ByzVKza4"
      },
      "execution_count": 8,
      "outputs": []
    },
    {
      "cell_type": "code",
      "source": [
        ""
      ],
      "metadata": {
        "id": "h94X0UIRPgq0"
      },
      "execution_count": null,
      "outputs": []
    }
  ]
}