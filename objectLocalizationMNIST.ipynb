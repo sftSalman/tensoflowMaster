{
  "nbformat": 4,
  "nbformat_minor": 0,
  "metadata": {
    "colab": {
      "name": "objectLocalizationMNIST.ipynb",
      "provenance": [],
      "authorship_tag": "ABX9TyOQr+lSay+e9a9yOgGIapgx",
      "include_colab_link": true
    },
    "kernelspec": {
      "name": "python3",
      "display_name": "Python 3"
    },
    "language_info": {
      "name": "python"
    },
    "accelerator": "GPU",
    "gpuClass": "standard"
  },
  "cells": [
    {
      "cell_type": "markdown",
      "metadata": {
        "id": "view-in-github",
        "colab_type": "text"
      },
      "source": [
        "<a href=\"https://colab.research.google.com/github/sftSalman/tensoflowMaster/blob/main/objectLocalizationMNIST.ipynb\" target=\"_parent\"><img src=\"https://colab.research.google.com/assets/colab-badge.svg\" alt=\"Open In Colab\"/></a>"
      ]
    },
    {
      "cell_type": "code",
      "execution_count": 2,
      "metadata": {
        "colab": {
          "base_uri": "https://localhost:8080/"
        },
        "id": "WvvT7_EHaDYr",
        "outputId": "e7f65e65-0a2c-437b-d85f-bc4c406f04bc"
      },
      "outputs": [
        {
          "output_type": "stream",
          "name": "stdout",
          "text": [
            "Colab only includes TensorFlow 2.x; %tensorflow_version has no effect.\n",
            "Tensorflow version 2.8.2\n"
          ]
        }
      ],
      "source": [
        "import os, re, time, json\n",
        "import PIL.Image, PIL.ImageFont, PIL.ImageDraw\n",
        "import numpy as np\n",
        "try:\n",
        "  # %tensorflow_version only exists in Colab.\n",
        "  %tensorflow_version 2.x\n",
        "except Exception:\n",
        "  pass\n",
        "import tensorflow as tf\n",
        "from matplotlib import pyplot as plt\n",
        "import tensorflow_datasets as tfds\n",
        "\n",
        "print(\"Tensorflow version \" + tf.__version__)"
      ]
    },
    {
      "cell_type": "code",
      "source": [
        "\n",
        "im_width = 75\n",
        "im_height = 75\n",
        "use_normalized_coordinates = True\n",
        "\n",
        "def draw_bounding_boxes_on_image_array(image,\n",
        "                                       boxes,\n",
        "                                       color=[],\n",
        "                                       thickness=1,\n",
        "                                       display_str_list=()):\n",
        "  \"\"\"Draws bounding boxes on image (numpy array).\n",
        "  Args:\n",
        "    image: a numpy array object.\n",
        "    boxes: a 2 dimensional numpy array of [N, 4]: (ymin, xmin, ymax, xmax).\n",
        "           The coordinates are in normalized format between [0, 1].\n",
        "    color: color to draw bounding box. Default is red.\n",
        "    thickness: line thickness. Default value is 4.\n",
        "    display_str_list_list: a list of strings for each bounding box.\n",
        "  Raises:\n",
        "    ValueError: if boxes is not a [N, 4] array\n",
        "  \"\"\"\n",
        "  image_pil = PIL.Image.fromarray(image)\n",
        "  rgbimg = PIL.Image.new(\"RGBA\", image_pil.size)\n",
        "  rgbimg.paste(image_pil)\n",
        "  draw_bounding_boxes_on_image(rgbimg, boxes, color, thickness,\n",
        "                               display_str_list)\n",
        "  return np.array(rgbimg)\n",
        "  \n",
        "\n",
        "def draw_bounding_boxes_on_image(image,\n",
        "                                 boxes,\n",
        "                                 color=[],\n",
        "                                 thickness=1,\n",
        "                                 display_str_list=()):\n",
        "  \"\"\"Draws bounding boxes on image.\n",
        "  Args:\n",
        "    image: a PIL.Image object.\n",
        "    boxes: a 2 dimensional numpy array of [N, 4]: (ymin, xmin, ymax, xmax).\n",
        "           The coordinates are in normalized format between [0, 1].\n",
        "    color: color to draw bounding box. Default is red.\n",
        "    thickness: line thickness. Default value is 4.\n",
        "    display_str_list: a list of strings for each bounding box.\n",
        "                           \n",
        "  Raises:\n",
        "    ValueError: if boxes is not a [N, 4] array\n",
        "  \"\"\"\n",
        "  boxes_shape = boxes.shape\n",
        "  if not boxes_shape:\n",
        "    return\n",
        "  if len(boxes_shape) != 2 or boxes_shape[1] != 4:\n",
        "    raise ValueError('Input must be of size [N, 4]')\n",
        "  for i in range(boxes_shape[0]):\n",
        "    draw_bounding_box_on_image(image, boxes[i, 1], boxes[i, 0], boxes[i, 3],\n",
        "                               boxes[i, 2], color[i], thickness, display_str_list[i])\n",
        "        \n",
        "def draw_bounding_box_on_image(image,\n",
        "                               ymin,\n",
        "                               xmin,\n",
        "                               ymax,\n",
        "                               xmax,\n",
        "                               color='red',\n",
        "                               thickness=1,\n",
        "                               display_str=None,\n",
        "                               use_normalized_coordinates=True):\n",
        "  \"\"\"Adds a bounding box to an image.\n",
        "  Bounding box coordinates can be specified in either absolute (pixel) or\n",
        "  normalized coordinates by setting the use_normalized_coordinates argument.\n",
        "  Args:\n",
        "    image: a PIL.Image object.\n",
        "    ymin: ymin of bounding box.\n",
        "    xmin: xmin of bounding box.\n",
        "    ymax: ymax of bounding box.\n",
        "    xmax: xmax of bounding box.\n",
        "    color: color to draw bounding box. Default is red.\n",
        "    thickness: line thickness. Default value is 4.\n",
        "    display_str_list: string to display in box\n",
        "    use_normalized_coordinates: If True (default), treat coordinates\n",
        "      ymin, xmin, ymax, xmax as relative to the image.  Otherwise treat\n",
        "      coordinates as absolute.\n",
        "  \"\"\"\n",
        "  draw = PIL.ImageDraw.Draw(image)\n",
        "  im_width, im_height = image.size\n",
        "  if use_normalized_coordinates:\n",
        "    (left, right, top, bottom) = (xmin * im_width, xmax * im_width,\n",
        "                                  ymin * im_height, ymax * im_height)\n",
        "  else:\n",
        "    (left, right, top, bottom) = (xmin, xmax, ymin, ymax)\n",
        "  draw.line([(left, top), (left, bottom), (right, bottom),\n",
        "             (right, top), (left, top)], width=thickness, fill=color)"
      ],
      "metadata": {
        "id": "4WUD9LHnbHZ8"
      },
      "execution_count": 3,
      "outputs": []
    },
    {
      "cell_type": "code",
      "source": [
        "\"\"\"\n",
        "This cell contains helper functions used for visualization\n",
        "and downloads only. \n",
        "\n",
        "You can skip reading it, as there is very\n",
        "little Keras or Tensorflow related code here.\n",
        "\"\"\"\n",
        "\n",
        "# Matplotlib config\n",
        "plt.rc('image', cmap='gray')\n",
        "plt.rc('grid', linewidth=0)\n",
        "plt.rc('xtick', top=False, bottom=False, labelsize='large')\n",
        "plt.rc('ytick', left=False, right=False, labelsize='large')\n",
        "plt.rc('axes', facecolor='F8F8F8', titlesize=\"large\", edgecolor='white')\n",
        "plt.rc('text', color='a8151a')\n",
        "plt.rc('figure', facecolor='F0F0F0')# Matplotlib fonts\n",
        "MATPLOTLIB_FONT_DIR = os.path.join(os.path.dirname(plt.__file__), \"mpl-data/fonts/ttf\")\n",
        "\n",
        "# pull a batch from the datasets. This code is not very nice, it gets much better in eager mode (TODO)\n",
        "def dataset_to_numpy_util(training_dataset, validation_dataset, N):\n",
        "  \n",
        "  # get one batch from each: 10000 validation digits, N training digits\n",
        "  batch_train_ds = training_dataset.unbatch().batch(N)\n",
        "  \n",
        "  # eager execution: loop through datasets normally\n",
        "  if tf.executing_eagerly():\n",
        "    for validation_digits, (validation_labels, validation_bboxes) in validation_dataset:\n",
        "      validation_digits = validation_digits.numpy()\n",
        "      validation_labels = validation_labels.numpy()\n",
        "      validation_bboxes = validation_bboxes.numpy()\n",
        "      break\n",
        "    for training_digits, (training_labels, training_bboxes) in batch_train_ds:\n",
        "      training_digits = training_digits.numpy()\n",
        "      training_labels = training_labels.numpy()\n",
        "      training_bboxes = training_bboxes.numpy()\n",
        "      break\n",
        "  \n",
        "  # these were one-hot encoded in the dataset\n",
        "  validation_labels = np.argmax(validation_labels, axis=1)\n",
        "  training_labels = np.argmax(training_labels, axis=1)\n",
        "  \n",
        "  return (training_digits, training_labels, training_bboxes,\n",
        "          validation_digits, validation_labels, validation_bboxes)\n",
        "\n",
        "# create digits from local fonts for testing\n",
        "def create_digits_from_local_fonts(n):\n",
        "  font_labels = []\n",
        "  img = PIL.Image.new('LA', (75*n, 75), color = (0,255)) # format 'LA': black in channel 0, alpha in channel 1\n",
        "  font1 = PIL.ImageFont.truetype(os.path.join(MATPLOTLIB_FONT_DIR, 'DejaVuSansMono-Oblique.ttf'), 25)\n",
        "  font2 = PIL.ImageFont.truetype(os.path.join(MATPLOTLIB_FONT_DIR, 'STIXGeneral.ttf'), 25)\n",
        "  d = PIL.ImageDraw.Draw(img)\n",
        "  for i in range(n):\n",
        "    font_labels.append(i%10)\n",
        "    d.text((7+i*75,0 if i<10 else -4), str(i%10), fill=(255,255), font=font1 if i<10 else font2)\n",
        "  font_digits = np.array(img.getdata(), np.float32)[:,0] / 255.0 # black in channel 0, alpha in channel 1 (discarded)\n",
        "  font_digits = np.reshape(np.stack(np.split(np.reshape(font_digits, [75, 75*n]), n, axis=1), axis=0), [n, 75*75])\n",
        "  return font_digits, font_labels\n",
        "\n",
        "\n",
        "# utility to display a row of digits with their predictions\n",
        "def display_digits_with_boxes(digits, predictions, labels, pred_bboxes, bboxes, iou, title):\n",
        "\n",
        "  n = 10\n",
        "\n",
        "  indexes = np.random.choice(len(predictions), size=n)\n",
        "  n_digits = digits[indexes]\n",
        "  n_predictions = predictions[indexes]\n",
        "  n_labels = labels[indexes]\n",
        "\n",
        "  n_iou = []\n",
        "  if len(iou) > 0:\n",
        "    n_iou = iou[indexes]\n",
        "\n",
        "  if (len(pred_bboxes) > 0):\n",
        "    n_pred_bboxes = pred_bboxes[indexes,:]\n",
        "\n",
        "  if (len(bboxes) > 0):\n",
        "    n_bboxes = bboxes[indexes,:]\n",
        "\n",
        "\n",
        "  n_digits = n_digits * 255.0\n",
        "  n_digits = n_digits.reshape(n, 75, 75)\n",
        "  fig = plt.figure(figsize=(20, 4))\n",
        "  plt.title(title)\n",
        "  plt.yticks([])\n",
        "  plt.xticks([])\n",
        "  \n",
        "  for i in range(10):\n",
        "    ax = fig.add_subplot(1, 10, i+1)\n",
        "    bboxes_to_plot = []\n",
        "    if (len(pred_bboxes) > i):\n",
        "      bboxes_to_plot.append(n_pred_bboxes[i])\n",
        "    \n",
        "    if (len(bboxes) > i):\n",
        "      bboxes_to_plot.append(n_bboxes[i])\n",
        "\n",
        "    img_to_draw = draw_bounding_boxes_on_image_array(image=n_digits[i], boxes=np.asarray(bboxes_to_plot), color=['red', 'green'], display_str_list=[\"true\", \"pred\"])\n",
        "    plt.xlabel(n_predictions[i])\n",
        "    plt.xticks([])\n",
        "    plt.yticks([])\n",
        "    \n",
        "    if n_predictions[i] != n_labels[i]:\n",
        "      ax.xaxis.label.set_color('red')\n",
        "\n",
        "    \n",
        "    \n",
        "    plt.imshow(img_to_draw)\n",
        "\n",
        "    if len(iou) > i :\n",
        "      color = \"black\"\n",
        "      if (n_iou[i][0] < iou_threshold):\n",
        "        color = \"red\"\n",
        "      ax.text(0.2, -0.3, \"iou: %s\" %(n_iou[i][0]), color=color, transform=ax.transAxes)\n",
        "\n",
        "\n",
        "# utility to display training and validation curves\n",
        "def plot_metrics(metric_name, title, ylim=5):\n",
        "  plt.title(title)\n",
        "  plt.ylim(0,ylim)\n",
        "  plt.plot(history.history[metric_name],color='blue',label=metric_name)\n",
        "  plt.plot(history.history['val_' + metric_name],color='green',label='val_' + metric_name)"
      ],
      "metadata": {
        "id": "o5gzbrZ6b1Jl"
      },
      "execution_count": 4,
      "outputs": []
    },
    {
      "cell_type": "code",
      "source": [
        "# Detect hardware\n",
        "try:\n",
        "  tpu = tf.distribute.cluster_resolver.TPUClusterResolver() # TPU detection\n",
        "except ValueError:\n",
        "  tpu = None\n",
        "  gpus = tf.config.experimental.list_logical_devices(\"GPU\")\n",
        "\n",
        "# Select Appropriate distribution strategy\n",
        "if tpu:\n",
        "  tf.config.experimental_connect_to_cluster(tpu)\n",
        "  tf.tpu.experimental.initialize_tpu_system(tpu)\n",
        "  strategy = tf.distribute.experimental.TPUStrategy(tpu) # Going back and forth\n",
        "  # between TPU and host is expensive. Better to run 128 batches on the TPU before reporting back\n",
        "  print(\"Running on TPU\", tpu.cluster_spec().as_dict()[\"worker\"])\n",
        "elif len(gpus)>1:\n",
        "  strategy = tf.distribute.MirroredStrategy([gpu.name for gpu in gpus])\n",
        "  print(\"Running on multiple GPUs\", [gpu.name for gpu in gpus])\n",
        "elif len(gpus)==1:\n",
        "  strategy = tf.distribute.get_strategy() # default strategy that works on CPU and single GPU\n",
        "  print(\"Running on single GPU\", gpus[0].name)\n",
        "else:\n",
        "  strategy = tf.distribute.get_strategy() \n",
        "  print(\"Running on CPU\")\n",
        "print(\"Number of acceleratorsL \", strategy.num_replicas_in_sync)"
      ],
      "metadata": {
        "colab": {
          "base_uri": "https://localhost:8080/"
        },
        "id": "txqe_eGacGzX",
        "outputId": "0d9a89cf-6fc4-4d7c-8e35-f48c8205205a"
      },
      "execution_count": 5,
      "outputs": [
        {
          "output_type": "stream",
          "name": "stdout",
          "text": [
            "Running on single GPU /device:GPU:0\n",
            "Number of acceleratorsL  1\n"
          ]
        }
      ]
    },
    {
      "cell_type": "code",
      "source": [
        "BATCH_SIZE = 64 * strategy.num_replicas_in_sync"
      ],
      "metadata": {
        "id": "6T0wquDecM-s"
      },
      "execution_count": 6,
      "outputs": []
    },
    {
      "cell_type": "code",
      "source": [
        "\"\"\"\n",
        "Transform each image in dataset by pasting it on a 75x75 canvas at a random location\n",
        "\"\"\"\n",
        "def read_image_tfds(image, label):\n",
        "  x_min = tf.random.uniform((), 0, 48, dtype=tf.int32)\n",
        "  y_min = tf.random.uniform((), 0, 48, dtype=tf.int32)\n",
        "  image = tf.reshape(image, (28, 28, 1))\n",
        "  image = tf.image.pad_to_bounding_box(image, y_min, x_min, 75, 75)\n",
        "  image = tf.cast(image, tf.float32) / 255.0\n",
        "  x_min = tf.cast(x_min, tf.float32)\n",
        "  y_min = tf.cast(y_min, tf.float32)\n",
        "\n",
        "  x_max = (x_min + 28) / 75\n",
        "  y_max = (y_min + 28) / 75\n",
        "  x_min = x_min / 75\n",
        "  y_min = y_min / 75\n",
        "\n",
        "  return image, (tf.one_hot(label, 10), [x_min, y_min, x_max, y_max])\n",
        "\n",
        "\"\"\"\n",
        "Loads and maps the training split of the dataset using the map function.\n",
        "Note that we try to load the gcs version since TPU can only work with datasets on Google Cloud Storage.\n",
        "\"\"\"\n",
        "def get_training_dataset():\n",
        "  with strategy.scope():\n",
        "    dataset = tfds.load(\"mnist\", split=\"train\", as_supervised=True, try_gcs=True) # Google Cloud Storage\n",
        "    dataset = dataset.map(read_image_tfds, num_parallel_calls=16)\n",
        "    dataset = dataset.shuffle(5000, reshuffle_each_iteration=True)\n",
        "    dataset = dataset.repeat() # mandatory for Keras for now\n",
        "    dataset = dataset.batch(BATCH_SIZE, drop_remainder=True)# drop_remainder is important on TPU, batch size must be fixed\n",
        "    dataset = dataset.prefetch(-1)  # fetch next batches while training on the current one (-1: autotune prefetch buffer size)\n",
        "  return dataset\n",
        "\n",
        "\"\"\"\n",
        "Loads and maps the validation split of the dataset using th map function. Same as Training ver\n",
        "\"\"\"\n",
        "def get_validation_dataset():\n",
        "  with strategy.scope():\n",
        "    dataset = tfds.load(\"mnist\", split=\"test\", as_supervised=True, try_gcs=True)\n",
        "    dataset = dataset.map(read_image_tfds, num_parallel_calls=16)\n",
        "\n",
        "    # dataset = dataset.cached() # this small dataset can be entirely cached in RAM\n",
        "    dataset = dataset.batch(10000, drop_remainder=True)\n",
        "    dataset = dataset.repeat()\n",
        "    return dataset\n",
        "\n",
        "# Instantiate the datasets\n",
        "with strategy.scope():\n",
        "  training_dataset = get_training_dataset()\n",
        "  validation_dataset = get_validation_dataset()"
      ],
      "metadata": {
        "id": "NOCEo2pxcbt6"
      },
      "execution_count": 7,
      "outputs": []
    },
    {
      "cell_type": "code",
      "source": [
        "(training_digits, training_labels, training_bboxes, \n",
        " validation_digits, validation_labels, validation_bboxes) = dataset_to_numpy_util(training_dataset, \n",
        "                                                                                  validation_dataset, 10)\n",
        "\n",
        "display_digits_with_boxes(training_digits, training_labels, training_labels, \n",
        "                          np.array([]), training_bboxes,np.array([]), \"Training digits and theirs labels\")\n",
        "display_digits_with_boxes(validation_digits, validation_labels, validation_labels, \n",
        "                          np.array([]), validation_bboxes,np.array([]), \"Validation digits and theirs labels\")"
      ],
      "metadata": {
        "colab": {
          "base_uri": "https://localhost:8080/",
          "height": 378
        },
        "id": "6Wwe1ZVIdQn9",
        "outputId": "d2d73a5d-e715-4ff3-d271-6f9777b92ce8"
      },
      "execution_count": 8,
      "outputs": [
        {
          "output_type": "display_data",
          "data": {
            "text/plain": [
              "<Figure size 1440x288 with 11 Axes>"
            ],
            "image/png": "[encoded data removed]"
          },
          "metadata": {}
        },
        {
          "output_type": "display_data",
          "data": {
            "text/plain": [
              "<Figure size 1440x288 with 11 Axes>"
            ],
            "image/png": "[encoded data removed]"
          },
          "metadata": {}
        }
      ]
    },
    {
      "cell_type": "code",
      "source": [
        "def feature_extractor(inputs):\n",
        "  x = tf.keras.layers.Conv2D(16, activation=\"relu\", kernel_size=3,\n",
        "                             input_shape=(75, 75, 1))(inputs)\n",
        "  x = tf.keras.layers.AveragePooling2D((2,2))(x)\n",
        "  \n",
        "  x = tf.keras.layers.Conv2D(32, kernel_size=3, activation=\"relu\")(x)\n",
        "  x = tf.keras.layers.AveragePooling2D((2,2))(x)\n",
        "\n",
        "  x = tf.keras.layers.Conv2D(64, kernel_size=3, activation=\"relu\")(x)\n",
        "  x = tf.keras.layers.AveragePooling2D((2,2))(x)\n",
        "\n",
        "  return x\n",
        "\n",
        "\"\"\"\n",
        "Dense layers adds a flatten and dense layer.\n",
        "This will follow the feature extraction layers.\n",
        "\"\"\"\n",
        "def dense_layers(inputs):\n",
        "  x = tf.keras.layers.Flatten()(inputs)\n",
        "  x = tf.keras.layers.Dense(128, activation=\"relu\")(x)\n",
        "  return x\n",
        "\n",
        "\"\"\"\n",
        "Classifier defines the classification output.\n",
        "This has a set of fully connected layers and a softmax layer.\n",
        "\"\"\"\n",
        "def classifier(inputs):\n",
        "  classification_output = tf.keras.layers.Dense(10, activation=\"softmax\", name=\"classification\")(inputs)\n",
        "  return classification_output\n",
        "\n",
        "\"\"\"\n",
        "This function defines the regression output for the bounding box prediction.\n",
        "Note that we have four outputs corresponding to (x_min, y_min, x_max, y_max)\n",
        "\"\"\"\n",
        "def bounding_box_regression(inputs):\n",
        "  bounding_box_regression_output = tf.keras.layers.Dense(units=4, name=\"bounding_box\")(inputs)\n",
        "  return bounding_box_regression_output\n",
        "\n",
        "def final_model(inputs):\n",
        "  feature_cnn = feature_extractor(inputs)\n",
        "  dense_output = dense_layers(feature_cnn)\n",
        "\n",
        "  '''\n",
        "  The model branch here.\n",
        "  The Dense layer's output gets fed into two branches:\n",
        "  classification_output and bounding_box_output\n",
        "  '''\n",
        "  classification_output = classifier(dense_output)\n",
        "  bounding_box_output = bounding_box_regression(dense_output)\n",
        "\n",
        "  model = tf.keras.Model(inputs=inputs, outputs=[classification_output, bounding_box_output])\n",
        "\n",
        "  return model\n",
        "\n",
        "def define_and_compile_model(inputs):\n",
        "  model = final_model(inputs)\n",
        "\n",
        "  model.compile(optimizer=\"adam\",\n",
        "                loss={\n",
        "                    \"classification\":\"categorical_crossentropy\",\n",
        "                    \"bounding_box\":\"mse\"\n",
        "                },\n",
        "                metrics={\n",
        "                    \"classification\":\"accuracy\",\n",
        "                    \"bounding_box\":\"mse\"\n",
        "                })\n",
        "  return model\n",
        "\n",
        "with strategy.scope():\n",
        "  inputs = tf.keras.layers.Input(shape=(75, 75, 1))\n",
        "  model = define_and_compile_model(inputs)\n"
      ],
      "metadata": {
        "id": "SdWbfC8OdWNO"
      },
      "execution_count": 9,
      "outputs": []
    },
    {
      "cell_type": "code",
      "source": [
        "model.summary()\n"
      ],
      "metadata": {
        "colab": {
          "base_uri": "https://localhost:8080/"
        },
        "id": "MWvNNnwyePsQ",
        "outputId": "feeea52f-17aa-4e8f-c3c2-8bc7d59def67"
      },
      "execution_count": 10,
      "outputs": [
        {
          "output_type": "stream",
          "name": "stdout",
          "text": [
            "Model: \"model\"\n",
            "__________________________________________________________________________________________________\n",
            " Layer (type)                   Output Shape         Param #     Connected to                     \n",
            "==================================================================================================\n",
            " input_1 (InputLayer)           [(None, 75, 75, 1)]  0           []                               \n",
            "                                                                                                  \n",
            " conv2d (Conv2D)                (None, 73, 73, 16)   160         ['input_1[0][0]']                \n",
            "                                                                                                  \n",
            " average_pooling2d (AveragePool  (None, 36, 36, 16)  0           ['conv2d[0][0]']                 \n",
            " ing2D)                                                                                           \n",
            "                                                                                                  \n",
            " conv2d_1 (Conv2D)              (None, 34, 34, 32)   4640        ['average_pooling2d[0][0]']      \n",
            "                                                                                                  \n",
            " average_pooling2d_1 (AveragePo  (None, 17, 17, 32)  0           ['conv2d_1[0][0]']               \n",
            " oling2D)                                                                                         \n",
            "                                                                                                  \n",
            " conv2d_2 (Conv2D)              (None, 15, 15, 64)   18496       ['average_pooling2d_1[0][0]']    \n",
            "                                                                                                  \n",
            " average_pooling2d_2 (AveragePo  (None, 7, 7, 64)    0           ['conv2d_2[0][0]']               \n",
            " oling2D)                                                                                         \n",
            "                                                                                                  \n",
            " flatten (Flatten)              (None, 3136)         0           ['average_pooling2d_2[0][0]']    \n",
            "                                                                                                  \n",
            " dense (Dense)                  (None, 128)          401536      ['flatten[0][0]']                \n",
            "                                                                                                  \n",
            " classification (Dense)         (None, 10)           1290        ['dense[0][0]']                  \n",
            "                                                                                                  \n",
            " bounding_box (Dense)           (None, 4)            516         ['dense[0][0]']                  \n",
            "                                                                                                  \n",
            "==================================================================================================\n",
            "Total params: 426,638\n",
            "Trainable params: 426,638\n",
            "Non-trainable params: 0\n",
            "__________________________________________________________________________________________________\n"
          ]
        }
      ]
    },
    {
      "cell_type": "code",
      "source": [
        "EPOCHS = 10\n",
        "steps_per_epoch = 60000//BATCH_SIZE \n",
        "validation_steps = 1\n",
        "\n",
        "history = model.fit(training_dataset,\n",
        "                    steps_per_epoch=steps_per_epoch,\n",
        "                    validation_data=validation_dataset,\n",
        "                    validation_steps=validation_steps,\n",
        "                    epochs=EPOCHS)\n",
        "\n",
        "loss, classification_loss, bouding_box_loss, classification_accuracy, bouding_box_mse = model.evaluate(validation_dataset, steps=validation_steps)\n",
        "print(\"Validation accuracy: \", classification_accuracy)"
      ],
      "metadata": {
        "colab": {
          "base_uri": "https://localhost:8080/"
        },
        "id": "CAJgOEZseQYt",
        "outputId": "6e8a1963-6674-4d87-a348-4d432dfac1ea"
      },
      "execution_count": 11,
      "outputs": [
        {
          "output_type": "stream",
          "name": "stdout",
          "text": [
            "Epoch 1/10\n",
            "937/937 [==============================] - 28s 17ms/step - loss: 0.9020 - classification_loss: 0.8869 - bounding_box_loss: 0.0150 - classification_accuracy: 0.6953 - bounding_box_mse: 0.0150 - val_loss: 0.2808 - val_classification_loss: 0.2732 - val_bounding_box_loss: 0.0075 - val_classification_accuracy: 0.9170 - val_bounding_box_mse: 0.0075\n",
            "Epoch 2/10\n",
            "937/937 [==============================] - 11s 12ms/step - loss: 0.2440 - classification_loss: 0.2387 - bounding_box_loss: 0.0052 - classification_accuracy: 0.9281 - bounding_box_mse: 0.0052 - val_loss: 0.1644 - val_classification_loss: 0.1606 - val_bounding_box_loss: 0.0037 - val_classification_accuracy: 0.9519 - val_bounding_box_mse: 0.0037\n",
            "Epoch 3/10\n",
            "937/937 [==============================] - 11s 12ms/step - loss: 0.1800 - classification_loss: 0.1768 - bounding_box_loss: 0.0033 - classification_accuracy: 0.9463 - bounding_box_mse: 0.0033 - val_loss: 0.1221 - val_classification_loss: 0.1195 - val_bounding_box_loss: 0.0026 - val_classification_accuracy: 0.9629 - val_bounding_box_mse: 0.0026\n",
            "Epoch 4/10\n",
            "937/937 [==============================] - 11s 11ms/step - loss: 0.1454 - classification_loss: 0.1429 - bounding_box_loss: 0.0024 - classification_accuracy: 0.9562 - bounding_box_mse: 0.0024 - val_loss: 0.1080 - val_classification_loss: 0.1057 - val_bounding_box_loss: 0.0023 - val_classification_accuracy: 0.9670 - val_bounding_box_mse: 0.0023\n",
            "Epoch 5/10\n",
            "937/937 [==============================] - 13s 13ms/step - loss: 0.1270 - classification_loss: 0.1249 - bounding_box_loss: 0.0020 - classification_accuracy: 0.9609 - bounding_box_mse: 0.0020 - val_loss: 0.1102 - val_classification_loss: 0.1082 - val_bounding_box_loss: 0.0019 - val_classification_accuracy: 0.9646 - val_bounding_box_mse: 0.0019\n",
            "Epoch 6/10\n",
            "937/937 [==============================] - 11s 12ms/step - loss: 0.1114 - classification_loss: 0.1097 - bounding_box_loss: 0.0016 - classification_accuracy: 0.9662 - bounding_box_mse: 0.0016 - val_loss: 0.0852 - val_classification_loss: 0.0835 - val_bounding_box_loss: 0.0017 - val_classification_accuracy: 0.9728 - val_bounding_box_mse: 0.0017\n",
            "Epoch 7/10\n",
            "937/937 [==============================] - 11s 12ms/step - loss: 0.0989 - classification_loss: 0.0974 - bounding_box_loss: 0.0015 - classification_accuracy: 0.9698 - bounding_box_mse: 0.0015 - val_loss: 0.0789 - val_classification_loss: 0.0776 - val_bounding_box_loss: 0.0013 - val_classification_accuracy: 0.9755 - val_bounding_box_mse: 0.0013\n",
            "Epoch 8/10\n",
            "937/937 [==============================] - 11s 12ms/step - loss: 0.0900 - classification_loss: 0.0887 - bounding_box_loss: 0.0013 - classification_accuracy: 0.9717 - bounding_box_mse: 0.0013 - val_loss: 0.0769 - val_classification_loss: 0.0754 - val_bounding_box_loss: 0.0014 - val_classification_accuracy: 0.9765 - val_bounding_box_mse: 0.0014\n",
            "Epoch 9/10\n",
            "937/937 [==============================] - 11s 11ms/step - loss: 0.0859 - classification_loss: 0.0847 - bounding_box_loss: 0.0012 - classification_accuracy: 0.9735 - bounding_box_mse: 0.0012 - val_loss: 0.0709 - val_classification_loss: 0.0696 - val_bounding_box_loss: 0.0013 - val_classification_accuracy: 0.9779 - val_bounding_box_mse: 0.0013\n",
            "Epoch 10/10\n",
            "937/937 [==============================] - 11s 11ms/step - loss: 0.0776 - classification_loss: 0.0764 - bounding_box_loss: 0.0012 - classification_accuracy: 0.9763 - bounding_box_mse: 0.0012 - val_loss: 0.0707 - val_classification_loss: 0.0697 - val_bounding_box_loss: 0.0010 - val_classification_accuracy: 0.9768 - val_bounding_box_mse: 0.0010\n",
            "1/1 [==============================] - 1s 1s/step - loss: 0.0699 - classification_loss: 0.0688 - bounding_box_loss: 0.0011 - classification_accuracy: 0.9773 - bounding_box_mse: 0.0011\n",
            "Validation accuracy:  0.9772999882698059\n"
          ]
        }
      ]
    },
    {
      "cell_type": "code",
      "source": [
        "plot_metrics(\"classification_loss\", \"Classification Loss\")\n",
        "plot_metrics(\"bounding_box_loss\", \"Bounding Box Loss\")"
      ],
      "metadata": {
        "colab": {
          "base_uri": "https://localhost:8080/",
          "height": 284
        },
        "id": "SYwtSphafZYM",
        "outputId": "0fba3fa5-884c-4d33-dffe-8e4f3cc4904e"
      },
      "execution_count": 12,
      "outputs": [
        {
          "output_type": "display_data",
          "data": {
            "text/plain": [
              "<Figure size 432x288 with 1 Axes>"
            ],
            "image/png": "[encoded data removed]"
          },
          "metadata": {}
        }
      ]
    },
    {
      "cell_type": "code",
      "source": [
        "def intersection_over_union(pred_box, true_box):\n",
        "  x_min_pred, y_min_pred, x_max_pred, y_max_pred = np.split(pred_box, 4, axis=1)\n",
        "  x_min_true, y_min_true, x_max_true, y_max_true = np.split(true_box, 4, axis=1)\n",
        "\n",
        "  smoothing_factor = 1e-10\n",
        "\n",
        "  x_min_overlap = np.maximum(x_min_pred, x_min_true)\n",
        "  x_max_overlap = np.minimum(x_max_pred, x_max_true)\n",
        "  y_min_overlap = np.maximum(y_min_pred, y_min_true)\n",
        "  y_max_overlap = np.minimum(y_max_pred, y_max_true)\n",
        "\n",
        "  true_box_area = (x_max_true - x_min_true) * (y_max_true - y_min_true)\n",
        "  pred_box_area = (x_max_pred - x_min_pred) * (y_max_pred - y_min_pred)\n",
        "\n",
        "  overlap_area = np.maximum((x_max_overlap - x_min_overlap), 0) * np.maximum((y_max_overlap - y_min_overlap), 0)\n",
        "\n",
        "  union_area = true_box_area + pred_box_area - overlap_area\n",
        "\n",
        "  iou = (overlap_area + smoothing_factor) / (union_area + smoothing_factor)\n",
        "\n",
        "  return iou"
      ],
      "metadata": {
        "id": "hVA3YGhGfaKB"
      },
      "execution_count": 13,
      "outputs": []
    },
    {
      "cell_type": "code",
      "source": [
        "predictions = model.predict(validation_digits, batch_size=64)\n",
        "predicted_labels = np.argmax(predictions[0], axis=1)\n",
        "\n",
        "predicted_bboxes = predictions[1]\n",
        "\n",
        "iou = intersection_over_union(predicted_bboxes, validation_bboxes)\n",
        "\n",
        "iou_threshold = 0.6\n",
        "\n",
        "print(\"Number of predictions where iou > threshold(%s): %s\" % (iou_threshold, (iou >= iou_threshold).sum()))\n",
        "print(\"Number of predictions where iou < threshold(%s): %s\" % (iou_threshold, (iou < iou_threshold).sum()))\n",
        "\n",
        "\n",
        "display_digits_with_boxes(validation_digits, predicted_labels, validation_labels, predicted_bboxes, validation_bboxes, iou, \"True and Predicted values\")\n"
      ],
      "metadata": {
        "colab": {
          "base_uri": "https://localhost:8080/",
          "height": 237
        },
        "id": "jz-TvxAdffH_",
        "outputId": "e32243ed-e9a5-40db-8109-bb4204287a72"
      },
      "execution_count": 14,
      "outputs": [
        {
          "output_type": "stream",
          "name": "stdout",
          "text": [
            "Number of predictions where iou > threshold(0.6): 9311\n",
            "Number of predictions where iou < threshold(0.6): 689\n"
          ]
        },
        {
          "output_type": "display_data",
          "data": {
            "text/plain": [
              "<Figure size 1440x288 with 11 Axes>"
            ],
            "image/png": "[encoded data removed]"
          },
          "metadata": {}
        }
      ]
    },
    {
      "cell_type": "code",
      "source": [
        ""
      ],
      "metadata": {
        "id": "JHvBUPKrfp8B"
      },
      "execution_count": null,
      "outputs": []
    }
  ]
}